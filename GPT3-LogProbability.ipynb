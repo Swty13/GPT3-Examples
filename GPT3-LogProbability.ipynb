{
 "cells": [
  {
   "cell_type": "markdown",
   "id": "d890fa73",
   "metadata": {},
   "source": [
    "# Log Probabilties\n",
    "\n",
    "GPT-3 uses the principles of probability to determine the likelihood of each word’s appearance through its training, and then selects the next word accordingly.\n",
    "\n",
    "\n",
    "`logprob` can be used to compare various GPT outputs and select the one with the highest probability, or perhaps the lowest probability. This is especially useful when using the n parameter, which requests multiple responses from GPT. Through these methods, fine-grained control can be achieved to ensure an optimized response from GPT."
   ]
  },
  {
   "cell_type": "code",
   "execution_count": 39,
   "id": "b06d1396",
   "metadata": {},
   "outputs": [],
   "source": [
    "import os\n",
    "import time\n",
    "import json\n",
    "import numpy as np\n",
    "import time\n",
    "import openai\n",
    "import pandas as pd\n",
    "openai.api_type = \"XXX\"\n",
    "openai.api_base = \"XXXXXXXXXXXXXXXXXXXXX\"\n",
    "openai.api_version = \"XXXXXX\"\n",
    "openai.api_key = \"XXXXXXXXXXXXXXXX\"\n"
   ]
  },
  {
   "cell_type": "code",
   "execution_count": 2,
   "id": "6af8b968",
   "metadata": {},
   "outputs": [],
   "source": [
    "raw_text=\"The ISRO(Indian Space Research Organisation) or is the national space agency of India, headquartered in Bengaluru. It operates under Department of Space which is directly overseen by the Prime Minister of India while Chairman of ISRO acts as executive of DOS as well.\""
   ]
  },
  {
   "cell_type": "code",
   "execution_count": 3,
   "id": "eb599b45",
   "metadata": {},
   "outputs": [],
   "source": [
    "q1=\"What is the Indian Space Research Organisation and what is its role in India?\"\n",
    "q2=\"Who oversees the Department of Space in India and what is their relationship with the Chairman of ISRO?\"\n",
    "q3=\"Where is the headquarters of the Indian Space Research Organisation located?\"\n",
    "q4=\"What is the fullform of ISRO?\""
   ]
  },
  {
   "cell_type": "code",
   "execution_count": 4,
   "id": "f8779fd2",
   "metadata": {
    "scrolled": true
   },
   "outputs": [
    {
     "name": "stdout",
     "output_type": "stream",
     "text": [
      "Answer the following questions in one word from text below.\n",
      "Text:The ISRO(Indian Space Research Organisation) or is the national space agency of India, headquartered in Bengaluru. It operates under Department of Space which is directly overseen by the Prime Minister of India while Chairman of ISRO acts as executive of DOS as well.\n",
      "Questions:\n",
      "What is the fullform of ISRO?\n"
     ]
    }
   ],
   "source": [
    "prompt_to_ask=\"Answer the following questions in one word from text below.\\nText:\"+raw_text+\"\\nQuestions:\\n\"+q4\n",
    "print(prompt_to_ask)"
   ]
  },
  {
   "cell_type": "markdown",
   "id": "6efd9109",
   "metadata": {},
   "source": [
    "> I set `logprobs=2` It means output 2 most log probabilties from maximum likelihood probablities"
   ]
  },
  {
   "cell_type": "code",
   "execution_count": 57,
   "id": "97b588f0",
   "metadata": {},
   "outputs": [],
   "source": [
    "response = openai.Completion.create(\n",
    "  engine=\"text-davinci-003\",\n",
    "  prompt=prompt_to_ask,\n",
    "  temperature=0.5,\n",
    "  max_tokens=50,\n",
    "  top_p=0.5,\n",
    "  frequency_penalty=0,\n",
    "  presence_penalty=0,\n",
    "  logprobs=2,\n",
    "  stop=None)"
   ]
  },
  {
   "cell_type": "code",
   "execution_count": 58,
   "id": "1177bce8",
   "metadata": {},
   "outputs": [
    {
     "data": {
      "text/plain": [
       "'ISRO'"
      ]
     },
     "execution_count": 58,
     "metadata": {},
     "output_type": "execute_result"
    }
   ],
   "source": [
    "response[\"choices\"][0][\"text\"].strip()"
   ]
  },
  {
   "cell_type": "code",
   "execution_count": 59,
   "id": "50dcd876",
   "metadata": {},
   "outputs": [
    {
     "data": {
      "text/html": [
       "<div>\n",
       "<style scoped>\n",
       "    .dataframe tbody tr th:only-of-type {\n",
       "        vertical-align: middle;\n",
       "    }\n",
       "\n",
       "    .dataframe tbody tr th {\n",
       "        vertical-align: top;\n",
       "    }\n",
       "\n",
       "    .dataframe thead th {\n",
       "        text-align: right;\n",
       "    }\n",
       "</style>\n",
       "<table border=\"1\" class=\"dataframe\">\n",
       "  <thead>\n",
       "    <tr style=\"text-align: right;\">\n",
       "      <th></th>\n",
       "      <th>tokens</th>\n",
       "      <th>token_logprobs</th>\n",
       "      <th>top_logprobs</th>\n",
       "      <th>text_offset</th>\n",
       "      <th>Prob</th>\n",
       "    </tr>\n",
       "  </thead>\n",
       "  <tbody>\n",
       "    <tr>\n",
       "      <th>0</th>\n",
       "      <td>\\n</td>\n",
       "      <td>-0.010036</td>\n",
       "      <td>{'\n",
       "': -0.010035716, ' ': -4.630004}</td>\n",
       "      <td>373</td>\n",
       "      <td>0.990014</td>\n",
       "    </tr>\n",
       "    <tr>\n",
       "      <th>1</th>\n",
       "      <td>IS</td>\n",
       "      <td>-0.200299</td>\n",
       "      <td>{'Answer': -2.342932, 'IS': -0.20029874}</td>\n",
       "      <td>374</td>\n",
       "      <td>0.818486</td>\n",
       "    </tr>\n",
       "    <tr>\n",
       "      <th>2</th>\n",
       "      <td>RO</td>\n",
       "      <td>0.000000</td>\n",
       "      <td>{'RO': 0, 'ROR': -17.74934}</td>\n",
       "      <td>376</td>\n",
       "      <td>1.000000</td>\n",
       "    </tr>\n",
       "    <tr>\n",
       "      <th>3</th>\n",
       "      <td>&lt;|endoftext|&gt;</td>\n",
       "      <td>-0.864141</td>\n",
       "      <td>{'.': -0.97765714, '&lt;|endoftext|&gt;': -0.8641412}</td>\n",
       "      <td>378</td>\n",
       "      <td>0.421413</td>\n",
       "    </tr>\n",
       "    <tr>\n",
       "      <th>4</th>\n",
       "      <td>§§</td>\n",
       "      <td>-0.046044</td>\n",
       "      <td>{' §§': -0.04604368, 'Q': -5.068739}</td>\n",
       "      <td>378</td>\n",
       "      <td>0.955000</td>\n",
       "    </tr>\n",
       "    <tr>\n",
       "      <th>5</th>\n",
       "      <td>FILE</td>\n",
       "      <td>-0.000285</td>\n",
       "      <td>{' COM': -8.766957, ' FILE': -0.00028472362}</td>\n",
       "      <td>378</td>\n",
       "      <td>0.999715</td>\n",
       "    </tr>\n",
       "    <tr>\n",
       "      <th>6</th>\n",
       "      <td>READ</td>\n",
       "      <td>-1.332729</td>\n",
       "      <td>{' READ': -1.3327287, ' src': -1.9519018}</td>\n",
       "      <td>378</td>\n",
       "      <td>0.263757</td>\n",
       "    </tr>\n",
       "    <tr>\n",
       "      <th>7</th>\n",
       "      <td>ME</td>\n",
       "      <td>-0.000139</td>\n",
       "      <td>{'EM': -10.355219, 'ME': -0.00013860193}</td>\n",
       "      <td>378</td>\n",
       "      <td>0.999861</td>\n",
       "    </tr>\n",
       "  </tbody>\n",
       "</table>\n",
       "</div>"
      ],
      "text/plain": [
       "          tokens  token_logprobs  \\\n",
       "0             \\n       -0.010036   \n",
       "1             IS       -0.200299   \n",
       "2             RO        0.000000   \n",
       "3  <|endoftext|>       -0.864141   \n",
       "4             §§       -0.046044   \n",
       "5           FILE       -0.000285   \n",
       "6           READ       -1.332729   \n",
       "7             ME       -0.000139   \n",
       "\n",
       "                                      top_logprobs  text_offset      Prob  \n",
       "0              {'\n",
       "': -0.010035716, ' ': -4.630004}          373  0.990014  \n",
       "1         {'Answer': -2.342932, 'IS': -0.20029874}          374  0.818486  \n",
       "2                      {'RO': 0, 'ROR': -17.74934}          376  1.000000  \n",
       "3  {'.': -0.97765714, '<|endoftext|>': -0.8641412}          378  0.421413  \n",
       "4             {' §§': -0.04604368, 'Q': -5.068739}          378  0.955000  \n",
       "5     {' COM': -8.766957, ' FILE': -0.00028472362}          378  0.999715  \n",
       "6        {' READ': -1.3327287, ' src': -1.9519018}          378  0.263757  \n",
       "7         {'EM': -10.355219, 'ME': -0.00013860193}          378  0.999861  "
      ]
     },
     "execution_count": 59,
     "metadata": {},
     "output_type": "execute_result"
    }
   ],
   "source": [
    "log_df=pd.DataFrame(response[\"choices\"][0][\"logprobs\"])\n",
    "log_df['Prob']=np.exp(log_df['token_logprobs'])\n",
    "log_df"
   ]
  },
  {
   "cell_type": "code",
   "execution_count": 60,
   "id": "66296cb1",
   "metadata": {},
   "outputs": [],
   "source": [
    "lst_token=log_df['tokens'].tolist()\n",
    "lst_prob=log_df['Prob'].tolist()"
   ]
  },
  {
   "cell_type": "code",
   "execution_count": 64,
   "id": "23792233",
   "metadata": {},
   "outputs": [
    {
     "data": {
      "text/plain": [
       "'ISRO'"
      ]
     },
     "execution_count": 64,
     "metadata": {},
     "output_type": "execute_result"
    }
   ],
   "source": [
    "\"\".join(lst_token[lst_token.index(\"\\n\")+1:lst_token.index(\"<|endoftext|>\")])"
   ]
  },
  {
   "cell_type": "code",
   "execution_count": 65,
   "id": "21cb80ea",
   "metadata": {},
   "outputs": [
    {
     "data": {
      "text/plain": [
       "0.9092431009916115"
      ]
     },
     "execution_count": 65,
     "metadata": {},
     "output_type": "execute_result"
    }
   ],
   "source": [
    "np.mean(lst_prob[lst_token.index(\"\\n\")+1:lst_token.index(\"<|endoftext|>\")])"
   ]
  },
  {
   "cell_type": "markdown",
   "id": "b0331468",
   "metadata": {},
   "source": [
    "> Higher log probabilities generally indicate that the model is more confident in its predictions, while lower log probabilities may indicate that the model is less certain or that the generated text is less coherent."
   ]
  },
  {
   "cell_type": "code",
   "execution_count": null,
   "id": "dfa9d4af",
   "metadata": {},
   "outputs": [],
   "source": []
  }
 ],
 "metadata": {
  "kernelspec": {
   "display_name": "test_env",
   "language": "python",
   "name": "test_env"
  },
  "language_info": {
   "codemirror_mode": {
    "name": "ipython",
    "version": 3
   },
   "file_extension": ".py",
   "mimetype": "text/x-python",
   "name": "python",
   "nbconvert_exporter": "python",
   "pygments_lexer": "ipython3",
   "version": "3.7.10"
  }
 },
 "nbformat": 4,
 "nbformat_minor": 5
}
